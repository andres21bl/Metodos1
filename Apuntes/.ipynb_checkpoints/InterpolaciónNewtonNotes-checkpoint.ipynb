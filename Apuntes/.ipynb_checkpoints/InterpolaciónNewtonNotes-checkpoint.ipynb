{
 "cells": [
  {
   "cell_type": "code",
   "execution_count": 1,
   "id": "dfc7d68f",
   "metadata": {},
   "outputs": [],
   "source": [
    "import numpy as np\n",
    "import matplotlib.pyplot as plt\n",
    "import pandas as pd\n",
    "import sympy as sym\n",
    "\n",
    "import os\n",
    "import os.path as path\n",
    "import wget"
   ]
  },
  {
   "cell_type": "code",
   "execution_count": 12,
   "id": "a9df145a",
   "metadata": {},
   "outputs": [],
   "source": [
    "X = np.array([-1.,0.,1.])\n",
    "Y = np.array([2,0,2])\n"
   ]
  },
  {
   "cell_type": "code",
   "execution_count": 13,
   "id": "af8e8f50",
   "metadata": {},
   "outputs": [
    {
     "name": "stdout",
     "output_type": "stream",
     "text": [
      "-2.0 2.0\n"
     ]
    }
   ],
   "source": [
    "f1 = (Y[1]-Y[0])/(X[1]-X[0])\n",
    "f2 = (Y[2]-Y[1])/(X[2]-X[1])\n",
    "print(f1,f2)"
   ]
  },
  {
   "cell_type": "code",
   "execution_count": 14,
   "id": "9fe4cb6a",
   "metadata": {},
   "outputs": [
    {
     "name": "stdout",
     "output_type": "stream",
     "text": [
      "2.0\n"
     ]
    }
   ],
   "source": [
    "d2f = (f2-f1)/(X[2]-X[0])\n",
    "print(d2f)"
   ]
  },
  {
   "cell_type": "code",
   "execution_count": 15,
   "id": "ac9f80d2",
   "metadata": {},
   "outputs": [],
   "source": [
    "x = np.linspace(-1,1,50)\n",
    "y = Y[0] +f1*(x-X[0]) + d2f*(x-X[0])*(x-X[1])"
   ]
  },
  {
   "cell_type": "code",
   "execution_count": 9,
   "id": "cb2f8616",
   "metadata": {},
   "outputs": [
    {
     "data": {
      "text/plain": [
       "[<matplotlib.lines.Line2D at 0x1b665020050>]"
      ]
     },
     "execution_count": 9,
     "metadata": {},
     "output_type": "execute_result"
    },
    {
     "data": {
      "image/png": "[encoded data removed]",
      "text/plain": [
       "<Figure size 640x480 with 1 Axes>"
      ]
     },
     "metadata": {},
     "output_type": "display_data"
    }
   ],
   "source": [
    "plt.scatter(X,Y,color='r')\n",
    "plt.plot(x,y)"
   ]
  },
  {
   "cell_type": "code",
   "execution_count": 16,
   "id": "f4c89533",
   "metadata": {},
   "outputs": [
    {
     "name": "stdout",
     "output_type": "stream",
     "text": [
      "\r",
      "  0% [                                                                                    ]  0 / 45\r",
      "100% [....................................................................................] 45 / 45Archivo descargado\n"
     ]
    }
   ],
   "source": [
    "if not path.exists('Data'):\n",
    "    os.mkdir('Data')\n",
    "    \n",
    "file = 'Data/InterpolacionNewton.dat'\n",
    "url = 'https://raw.githubusercontent.com/asegura4488/Database/main/MetodosComputacionalesReforma/InterpolacionNewton.csv'\n",
    "\n",
    "if not path.exists(file):\n",
    "    Path_ = wget.download(url,file)\n",
    "    print('Archivo descargado')\n",
    "else:\n",
    "    print('---Archivo encontrado---')\n",
    "    Path_ = file"
   ]
  },
  {
   "cell_type": "code",
   "execution_count": 5,
   "id": "b4984718",
   "metadata": {},
   "outputs": [],
   "source": [
    "file = 'Data/InterpolacionNewton.dat'\n",
    "url = 'https://raw.githubusercontent.com/asegura4488/Database/main/MetodosComputacionalesReforma/InterpolacionNewton.csv'"
   ]
  },
  {
   "cell_type": "code",
   "execution_count": 17,
   "id": "39d066b4",
   "metadata": {},
   "outputs": [
    {
     "data": {
      "text/html": [
       "<div>\n",
       "<style scoped>\n",
       "    .dataframe tbody tr th:only-of-type {\n",
       "        vertical-align: middle;\n",
       "    }\n",
       "\n",
       "    .dataframe tbody tr th {\n",
       "        vertical-align: top;\n",
       "    }\n",
       "\n",
       "    .dataframe thead th {\n",
       "        text-align: right;\n",
       "    }\n",
       "</style>\n",
       "<table border=\"1\" class=\"dataframe\">\n",
       "  <thead>\n",
       "    <tr style=\"text-align: right;\">\n",
       "      <th></th>\n",
       "      <th>X</th>\n",
       "      <th>Y</th>\n",
       "    </tr>\n",
       "  </thead>\n",
       "  <tbody>\n",
       "    <tr>\n",
       "      <th>0</th>\n",
       "      <td>-3</td>\n",
       "      <td>39</td>\n",
       "    </tr>\n",
       "    <tr>\n",
       "      <th>1</th>\n",
       "      <td>-1</td>\n",
       "      <td>19</td>\n",
       "    </tr>\n",
       "    <tr>\n",
       "      <th>2</th>\n",
       "      <td>1</td>\n",
       "      <td>-21</td>\n",
       "    </tr>\n",
       "    <tr>\n",
       "      <th>3</th>\n",
       "      <td>3</td>\n",
       "      <td>-57</td>\n",
       "    </tr>\n",
       "    <tr>\n",
       "      <th>4</th>\n",
       "      <td>5</td>\n",
       "      <td>-65</td>\n",
       "    </tr>\n",
       "    <tr>\n",
       "      <th>5</th>\n",
       "      <td>7</td>\n",
       "      <td>-21</td>\n",
       "    </tr>\n",
       "    <tr>\n",
       "      <th>6</th>\n",
       "      <td>9</td>\n",
       "      <td>99</td>\n",
       "    </tr>\n",
       "  </tbody>\n",
       "</table>\n",
       "</div>"
      ],
      "text/plain": [
       "   X   Y\n",
       "0 -3  39\n",
       "1 -1  19\n",
       "2  1 -21\n",
       "3  3 -57\n",
       "4  5 -65\n",
       "5  7 -21\n",
       "6  9  99"
      ]
     },
     "execution_count": 17,
     "metadata": {},
     "output_type": "execute_result"
    }
   ],
   "source": [
    "Data = pd.read_csv(Path_,sep=',')\n",
    "Data\n",
    "    "
   ]
  },
  {
   "cell_type": "code",
   "execution_count": 18,
   "id": "72ebe9c4",
   "metadata": {},
   "outputs": [],
   "source": [
    "X = np.array(Data.X)\n",
    "Y = np.array(Data.Y)"
   ]
  },
  {
   "cell_type": "code",
   "execution_count": 19,
   "id": "2a10c50c",
   "metadata": {},
   "outputs": [
    {
     "data": {
      "text/plain": [
       "<matplotlib.collections.PathCollection at 0x1b666679f50>"
      ]
     },
     "execution_count": 19,
     "metadata": {},
     "output_type": "execute_result"
    },
    {
     "data": {
      "image/png": "[encoded data removed]",
      "text/plain": [
       "<Figure size 640x480 with 1 Axes>"
      ]
     },
     "metadata": {},
     "output_type": "display_data"
    }
   ],
   "source": [
    "plt.scatter(X,Y,color='r')"
   ]
  },
  {
   "cell_type": "code",
   "execution_count": 27,
   "id": "b69181ab",
   "metadata": {},
   "outputs": [
    {
     "data": {
      "text/plain": [
       "array([[ 39.,   0.,   0.,   0.,   0.,   0.,   0.],\n",
       "       [ 19., -20.,   0.,   0.,   0.,   0.,   0.],\n",
       "       [-21., -40., -20.,   0.,   0.,   0.,   0.],\n",
       "       [-57., -36.,   4.,  24.,   0.,   0.,   0.],\n",
       "       [-65.,  -8.,  28.,  24.,   0.,   0.,   0.],\n",
       "       [-21.,  44.,  52.,  24.,   0.,   0.,   0.],\n",
       "       [ 99., 120.,  76.,  24.,   0.,   0.,   0.]])"
      ]
     },
     "execution_count": 27,
     "metadata": {},
     "output_type": "execute_result"
    }
   ],
   "source": [
    "Diff = np.zeros(( X.shape[0],Y.shape[0] ))\n",
    "Diff[:,0] = Y\n",
    "\n",
    "\n",
    "for i in range(1,len(X)):\n",
    "    for j in range(i,len(X)):\n",
    "        Diff[j,i] = Diff[j,i-1] - Diff[j-1,i-1] \n",
    "\n",
    "Diff"
   ]
  },
  {
   "cell_type": "code",
   "execution_count": 29,
   "id": "7bfa5858",
   "metadata": {},
   "outputs": [],
   "source": [
    "def InterpolacionNewton(X,Y,x):\n",
    "    \n",
    "    sum_ = Y[0]\n",
    "    \n",
    "    Diff = np.zeros(( X.shape[0],Y.shape[0] ))\n",
    "    h = X[1]-X[0]\n",
    "    \n",
    "    Diff[:,0] = Y\n",
    "\n",
    "    poly = 1.\n",
    "    \n",
    "    for i in range(1,len(X)):\n",
    "        \n",
    "        poly *= (x-X[i-1])\n",
    "        \n",
    "        for j in range(i,len(X)):\n",
    "            \n",
    "            Diff[j,i] = Diff[j,i-1] - Diff[j-1,i-1] \n",
    "    \n",
    "        sum_ += poly*Diff[i,i]/(np.math.factorial(i)*h**(i))\n",
    "        \n",
    "    return sum_"
   ]
  },
  {
   "cell_type": "code",
   "execution_count": 30,
   "id": "5a3a9eb4",
   "metadata": {},
   "outputs": [],
   "source": [
    "xt = np.linspace(np.min(X),np.max(X),100)\n",
    "yt = []\n",
    "\n",
    "for x in xt:\n",
    "    yt.append(InterpolacionNewton(X,Y,x))\n"
   ]
  },
  {
   "cell_type": "code",
   "execution_count": null,
   "id": "52439ffa",
   "metadata": {},
   "outputs": [],
   "source": []
  },
  {
   "cell_type": "code",
   "execution_count": 32,
   "id": "9b462e10",
   "metadata": {},
   "outputs": [
    {
     "data": {
      "text/plain": [
       "[<matplotlib.lines.Line2D at 0x1b667389750>]"
      ]
     },
     "execution_count": 32,
     "metadata": {},
     "output_type": "execute_result"
    },
    {
     "data": {
      "image/png": "[encoded data removed]",
      "text/plain": [
       "<Figure size 640x480 with 1 Axes>"
      ]
     },
     "metadata": {},
     "output_type": "display_data"
    }
   ],
   "source": [
    "plt.scatter(X,Y,color='r')\n",
    "plt.plot(xt,yt)"
   ]
  },
  {
   "cell_type": "code",
   "execution_count": null,
   "id": "9b8a14c3",
   "metadata": {},
   "outputs": [],
   "source": []
  }
 ],
 "metadata": {
  "kernelspec": {
   "display_name": "Python 3 (ipykernel)",
   "language": "python",
   "name": "python3"
  },
  "language_info": {
   "codemirror_mode": {
    "name": "ipython",
    "version": 3
   },
   "file_extension": ".py",
   "mimetype": "text/x-python",
   "name": "python",
   "nbconvert_exporter": "python",
   "pygments_lexer": "ipython3",
   "version": "3.11.4"
  }
 },
 "nbformat": 4,
 "nbformat_minor": 5
}
